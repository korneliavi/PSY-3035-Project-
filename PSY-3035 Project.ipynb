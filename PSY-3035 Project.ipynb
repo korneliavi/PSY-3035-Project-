{
 "cells": [
  {
   "cell_type": "code",
   "execution_count": 154,
   "id": "02c33123",
   "metadata": {},
   "outputs": [],
   "source": [
    "# In this notebook you will find data from my own Netflix account which is shared with my family. \n",
    "# The analyze will include several research questions. "
   ]
  },
  {
   "cell_type": "code",
   "execution_count": 155,
   "id": "bf936714",
   "metadata": {},
   "outputs": [],
   "source": [
    "import pandas as pd\n",
    "data = pd.read_csv(\"/Users/Nelia/Desktop/netflix-report/CONTENT_INTERACTION/ViewingActivity.csv\")\n"
   ]
  },
  {
   "cell_type": "code",
   "execution_count": 156,
   "id": "77e9c4e7",
   "metadata": {},
   "outputs": [],
   "source": [
    "# First off all, let´s have a look at the data we have before any analysis.  "
   ]
  },
  {
   "cell_type": "code",
   "execution_count": 157,
   "id": "a7facb22",
   "metadata": {},
   "outputs": [
    {
     "data": {
      "text/html": [
       "<div>\n",
       "<style scoped>\n",
       "    .dataframe tbody tr th:only-of-type {\n",
       "        vertical-align: middle;\n",
       "    }\n",
       "\n",
       "    .dataframe tbody tr th {\n",
       "        vertical-align: top;\n",
       "    }\n",
       "\n",
       "    .dataframe thead th {\n",
       "        text-align: right;\n",
       "    }\n",
       "</style>\n",
       "<table border=\"1\" class=\"dataframe\">\n",
       "  <thead>\n",
       "    <tr style=\"text-align: right;\">\n",
       "      <th></th>\n",
       "      <th>Profile Name</th>\n",
       "      <th>Start Time</th>\n",
       "      <th>Duration</th>\n",
       "      <th>Attributes</th>\n",
       "      <th>Title</th>\n",
       "      <th>Supplemental Video Type</th>\n",
       "      <th>Device Type</th>\n",
       "      <th>Bookmark</th>\n",
       "      <th>Latest Bookmark</th>\n",
       "      <th>Country</th>\n",
       "    </tr>\n",
       "  </thead>\n",
       "  <tbody>\n",
       "    <tr>\n",
       "      <th>0</th>\n",
       "      <td>Kids</td>\n",
       "      <td>2022-11-23 23:51:10</td>\n",
       "      <td>00:10:13</td>\n",
       "      <td>NaN</td>\n",
       "      <td>Madagaskar</td>\n",
       "      <td>NaN</td>\n",
       "      <td>Apple TV 3 (revised)</td>\n",
       "      <td>00:10:13</td>\n",
       "      <td>00:10:13</td>\n",
       "      <td>DE (Germany)</td>\n",
       "    </tr>\n",
       "    <tr>\n",
       "      <th>1</th>\n",
       "      <td>Kids</td>\n",
       "      <td>2021-08-04 11:05:32</td>\n",
       "      <td>01:31:24</td>\n",
       "      <td>NaN</td>\n",
       "      <td>Olsenbanden jr.  går under vann</td>\n",
       "      <td>NaN</td>\n",
       "      <td>Apple TV 3 (revised)</td>\n",
       "      <td>01:31:24</td>\n",
       "      <td>01:31:24</td>\n",
       "      <td>NO (Norway)</td>\n",
       "    </tr>\n",
       "    <tr>\n",
       "      <th>2</th>\n",
       "      <td>Kids</td>\n",
       "      <td>2021-04-11 13:44:43</td>\n",
       "      <td>01:20:12</td>\n",
       "      <td>NaN</td>\n",
       "      <td>Kjæledyrenes hemmelige liv 2</td>\n",
       "      <td>NaN</td>\n",
       "      <td>Apple TV 3 (revised)</td>\n",
       "      <td>01:20:12</td>\n",
       "      <td>01:20:12</td>\n",
       "      <td>NO (Norway)</td>\n",
       "    </tr>\n",
       "    <tr>\n",
       "      <th>3</th>\n",
       "      <td>Kids</td>\n",
       "      <td>2020-09-03 06:52:11</td>\n",
       "      <td>00:04:19</td>\n",
       "      <td>NaN</td>\n",
       "      <td>Bamse – Verdens sterkeste bjørn: Bamse: Det st...</td>\n",
       "      <td>NaN</td>\n",
       "      <td>Safari MAC (Cadmium)</td>\n",
       "      <td>00:04:21</td>\n",
       "      <td>00:04:21</td>\n",
       "      <td>NO (Norway)</td>\n",
       "    </tr>\n",
       "    <tr>\n",
       "      <th>4</th>\n",
       "      <td>Kids</td>\n",
       "      <td>2020-05-14 14:24:48</td>\n",
       "      <td>00:00:33</td>\n",
       "      <td>NaN</td>\n",
       "      <td>Slipp Willy fri</td>\n",
       "      <td>NaN</td>\n",
       "      <td>Apple TV 3 (revised)</td>\n",
       "      <td>00:00:32</td>\n",
       "      <td>00:00:32</td>\n",
       "      <td>NO (Norway)</td>\n",
       "    </tr>\n",
       "    <tr>\n",
       "      <th>...</th>\n",
       "      <td>...</td>\n",
       "      <td>...</td>\n",
       "      <td>...</td>\n",
       "      <td>...</td>\n",
       "      <td>...</td>\n",
       "      <td>...</td>\n",
       "      <td>...</td>\n",
       "      <td>...</td>\n",
       "      <td>...</td>\n",
       "      <td>...</td>\n",
       "    </tr>\n",
       "    <tr>\n",
       "      <th>16006</th>\n",
       "      <td>Venke</td>\n",
       "      <td>2016-02-02 16:54:12</td>\n",
       "      <td>01:00:49</td>\n",
       "      <td>NaN</td>\n",
       "      <td>Lilo &amp; Stitch</td>\n",
       "      <td>NaN</td>\n",
       "      <td>Chrome PC (Cadmium)</td>\n",
       "      <td>01:00:49</td>\n",
       "      <td>01:00:49</td>\n",
       "      <td>US (United States)</td>\n",
       "    </tr>\n",
       "    <tr>\n",
       "      <th>16007</th>\n",
       "      <td>Venke</td>\n",
       "      <td>2016-01-23 15:40:11</td>\n",
       "      <td>00:00:05</td>\n",
       "      <td>NaN</td>\n",
       "      <td>Peaceful Warrior</td>\n",
       "      <td>NaN</td>\n",
       "      <td>Chrome PC (Cadmium)</td>\n",
       "      <td>00:00:05</td>\n",
       "      <td>00:00:05</td>\n",
       "      <td>BR (Brazil)</td>\n",
       "    </tr>\n",
       "    <tr>\n",
       "      <th>16008</th>\n",
       "      <td>Venke</td>\n",
       "      <td>2016-01-23 12:50:58</td>\n",
       "      <td>02:04:25</td>\n",
       "      <td>NaN</td>\n",
       "      <td>Knocked Up</td>\n",
       "      <td>NaN</td>\n",
       "      <td>Chrome PC (Cadmium)</td>\n",
       "      <td>02:04:25</td>\n",
       "      <td>02:04:25</td>\n",
       "      <td>NO (Norway)</td>\n",
       "    </tr>\n",
       "    <tr>\n",
       "      <th>16009</th>\n",
       "      <td>Venke</td>\n",
       "      <td>2014-09-23 13:56:51</td>\n",
       "      <td>00:00:01</td>\n",
       "      <td>NaN</td>\n",
       "      <td>Fornuft og følelser</td>\n",
       "      <td>NaN</td>\n",
       "      <td>PC</td>\n",
       "      <td>00:00:00</td>\n",
       "      <td>00:00:00</td>\n",
       "      <td>NO (Norway)</td>\n",
       "    </tr>\n",
       "    <tr>\n",
       "      <th>16010</th>\n",
       "      <td>Venke</td>\n",
       "      <td>2014-09-22 21:20:19</td>\n",
       "      <td>00:00:17</td>\n",
       "      <td>NaN</td>\n",
       "      <td>Elementary: Sesong 1: Pilotepisode</td>\n",
       "      <td>NaN</td>\n",
       "      <td>PC</td>\n",
       "      <td>00:00:16</td>\n",
       "      <td>00:00:16</td>\n",
       "      <td>NO (Norway)</td>\n",
       "    </tr>\n",
       "  </tbody>\n",
       "</table>\n",
       "<p>16011 rows × 10 columns</p>\n",
       "</div>"
      ],
      "text/plain": [
       "      Profile Name           Start Time  Duration Attributes  \\\n",
       "0             Kids  2022-11-23 23:51:10  00:10:13        NaN   \n",
       "1             Kids  2021-08-04 11:05:32  01:31:24        NaN   \n",
       "2             Kids  2021-04-11 13:44:43  01:20:12        NaN   \n",
       "3             Kids  2020-09-03 06:52:11  00:04:19        NaN   \n",
       "4             Kids  2020-05-14 14:24:48  00:00:33        NaN   \n",
       "...            ...                  ...       ...        ...   \n",
       "16006       Venke   2016-02-02 16:54:12  01:00:49        NaN   \n",
       "16007       Venke   2016-01-23 15:40:11  00:00:05        NaN   \n",
       "16008       Venke   2016-01-23 12:50:58  02:04:25        NaN   \n",
       "16009       Venke   2014-09-23 13:56:51  00:00:01        NaN   \n",
       "16010       Venke   2014-09-22 21:20:19  00:00:17        NaN   \n",
       "\n",
       "                                                   Title  \\\n",
       "0                                             Madagaskar   \n",
       "1                        Olsenbanden jr.  går under vann   \n",
       "2                           Kjæledyrenes hemmelige liv 2   \n",
       "3      Bamse – Verdens sterkeste bjørn: Bamse: Det st...   \n",
       "4                                        Slipp Willy fri   \n",
       "...                                                  ...   \n",
       "16006                                      Lilo & Stitch   \n",
       "16007                                   Peaceful Warrior   \n",
       "16008                                         Knocked Up   \n",
       "16009                                Fornuft og følelser   \n",
       "16010                 Elementary: Sesong 1: Pilotepisode   \n",
       "\n",
       "      Supplemental Video Type           Device Type  Bookmark Latest Bookmark  \\\n",
       "0                         NaN  Apple TV 3 (revised)  00:10:13        00:10:13   \n",
       "1                         NaN  Apple TV 3 (revised)  01:31:24        01:31:24   \n",
       "2                         NaN  Apple TV 3 (revised)  01:20:12        01:20:12   \n",
       "3                         NaN  Safari MAC (Cadmium)  00:04:21        00:04:21   \n",
       "4                         NaN  Apple TV 3 (revised)  00:00:32        00:00:32   \n",
       "...                       ...                   ...       ...             ...   \n",
       "16006                     NaN   Chrome PC (Cadmium)  01:00:49        01:00:49   \n",
       "16007                     NaN   Chrome PC (Cadmium)  00:00:05        00:00:05   \n",
       "16008                     NaN   Chrome PC (Cadmium)  02:04:25        02:04:25   \n",
       "16009                     NaN                    PC  00:00:00        00:00:00   \n",
       "16010                     NaN                    PC  00:00:16        00:00:16   \n",
       "\n",
       "                  Country  \n",
       "0            DE (Germany)  \n",
       "1             NO (Norway)  \n",
       "2             NO (Norway)  \n",
       "3             NO (Norway)  \n",
       "4             NO (Norway)  \n",
       "...                   ...  \n",
       "16006  US (United States)  \n",
       "16007         BR (Brazil)  \n",
       "16008         NO (Norway)  \n",
       "16009         NO (Norway)  \n",
       "16010         NO (Norway)  \n",
       "\n",
       "[16011 rows x 10 columns]"
      ]
     },
     "execution_count": 157,
     "metadata": {},
     "output_type": "execute_result"
    }
   ],
   "source": [
    "data"
   ]
  },
  {
   "cell_type": "code",
   "execution_count": 158,
   "id": "0c8eb382",
   "metadata": {},
   "outputs": [],
   "source": [
    "# First question: How much data do we have? \n"
   ]
  },
  {
   "cell_type": "code",
   "execution_count": 159,
   "id": "430db0bc",
   "metadata": {},
   "outputs": [
    {
     "data": {
      "text/plain": [
       "160110"
      ]
     },
     "execution_count": 159,
     "metadata": {},
     "output_type": "execute_result"
    }
   ],
   "source": [
    "data.size"
   ]
  },
  {
   "cell_type": "code",
   "execution_count": 160,
   "id": "cc9aee6e",
   "metadata": {},
   "outputs": [],
   "source": [
    "# Second question: What are the different categories (columns) available from this data set? "
   ]
  },
  {
   "cell_type": "code",
   "execution_count": 161,
   "id": "697dd70c",
   "metadata": {},
   "outputs": [
    {
     "data": {
      "text/plain": [
       "Index(['Profile Name', 'Start Time', 'Duration', 'Attributes', 'Title',\n",
       "       'Supplemental Video Type', 'Device Type', 'Bookmark', 'Latest Bookmark',\n",
       "       'Country'],\n",
       "      dtype='object')"
      ]
     },
     "execution_count": 161,
     "metadata": {},
     "output_type": "execute_result"
    }
   ],
   "source": [
    "data.columns"
   ]
  },
  {
   "cell_type": "code",
   "execution_count": 162,
   "id": "cfee8e2d",
   "metadata": {},
   "outputs": [
    {
     "data": {
      "text/plain": [
       "Profile Name               object\n",
       "Start Time                 object\n",
       "Duration                   object\n",
       "Attributes                 object\n",
       "Title                      object\n",
       "Supplemental Video Type    object\n",
       "Device Type                object\n",
       "Bookmark                   object\n",
       "Latest Bookmark            object\n",
       "Country                    object\n",
       "dtype: object"
      ]
     },
     "execution_count": 162,
     "metadata": {},
     "output_type": "execute_result"
    }
   ],
   "source": [
    "data.dtypes"
   ]
  },
  {
   "cell_type": "code",
   "execution_count": 163,
   "id": "5ca34573",
   "metadata": {},
   "outputs": [],
   "source": [
    "# Third question: Let´s have a look at the different profiles. \n",
    "# How many profiles are active for this Netflix account? "
   ]
  },
  {
   "cell_type": "code",
   "execution_count": 164,
   "id": "7a4e76a2",
   "metadata": {},
   "outputs": [
    {
     "data": {
      "text/plain": [
       "array(['Kids', 'Kornelia', 'Sarah', 'Venke '], dtype=object)"
      ]
     },
     "execution_count": 164,
     "metadata": {},
     "output_type": "execute_result"
    }
   ],
   "source": [
    "data[\"Profile Name\"].unique()"
   ]
  },
  {
   "cell_type": "code",
   "execution_count": 165,
   "id": "9f32c58a",
   "metadata": {},
   "outputs": [],
   "source": [
    "# Fourth question: Which profile had the most viewing activity/interactions? "
   ]
  },
  {
   "cell_type": "code",
   "execution_count": 166,
   "id": "af6a522a",
   "metadata": {},
   "outputs": [
    {
     "data": {
      "text/plain": [
       "Kornelia    10473\n",
       "Sarah        4815\n",
       "Venke         697\n",
       "Kids           26\n",
       "Name: Profile Name, dtype: int64"
      ]
     },
     "execution_count": 166,
     "metadata": {},
     "output_type": "execute_result"
    }
   ],
   "source": [
    "data['Profile Name'].value_counts()"
   ]
  },
  {
   "cell_type": "code",
   "execution_count": 167,
   "id": "1e3ce809",
   "metadata": {},
   "outputs": [],
   "source": [
    "# Let´s look at the fourth question in a plot. "
   ]
  },
  {
   "cell_type": "code",
   "execution_count": 168,
   "id": "2530979a",
   "metadata": {},
   "outputs": [],
   "source": [
    "%matplotlib inline\n",
    "import matplotlib\n",
    "import matplotlib.pyplot as plt"
   ]
  },
  {
   "cell_type": "code",
   "execution_count": 209,
   "id": "7ffdaa6e",
   "metadata": {
    "scrolled": true
   },
   "outputs": [
    {
     "data": {
      "image/png": "[encoded data removed]",
      "text/plain": [
       "<Figure size 640x480 with 1 Axes>"
      ]
     },
     "metadata": {},
     "output_type": "display_data"
    }
   ],
   "source": [
    "Profile_data = {\"Kornelia\":10473, \"Sarah\":4815, \"Venke\":697, \"Kids\":26}\n",
    "Profile_Name = list(Profile_data.keys())\n",
    "Profile_Values = list(Profile_data.values())\n",
    "c = (\"#fcffa4\", \"#f98e09\", \"#bc3754\", \"#57106e\")\n",
    "plt.barh (Profile_Name, Profile_Values, 0.8, color = c)\n",
    "for index, value in enumerate (Profile_Values):\n",
    "    plt.text(value, index, str (value), weight = \"bold\", size = 8)\n",
    "plt.gca().invert_yaxis()\n",
    "plt.grid(axis = \"y\")\n",
    "plt.title (\"Viewing Activity based on all the profiles\", weight = \"bold\")\n",
    "plt.ylabel (\"Profiles\", weight = \"bold\")\n",
    "plt.xlabel (\"Interactions\", weight = \"bold\")\n",
    "plt.show()"
   ]
  },
  {
   "cell_type": "code",
   "execution_count": 170,
   "id": "106af1f2",
   "metadata": {},
   "outputs": [],
   "source": [
    "# Fifth question: What is the total time used on Netflix (based on all four profiles)?"
   ]
  },
  {
   "cell_type": "code",
   "execution_count": 171,
   "id": "eb43abc3",
   "metadata": {},
   "outputs": [
    {
     "data": {
      "text/plain": [
       "Profile Name                            object\n",
       "Start Time                 datetime64[ns, UTC]\n",
       "Duration                       timedelta64[ns]\n",
       "Attributes                              object\n",
       "Title                                   object\n",
       "Supplemental Video Type                 object\n",
       "Device Type                             object\n",
       "Bookmark                                object\n",
       "Latest Bookmark                         object\n",
       "Country                                 object\n",
       "dtype: object"
      ]
     },
     "execution_count": 171,
     "metadata": {},
     "output_type": "execute_result"
    }
   ],
   "source": [
    "data['Start Time'] = pd.to_datetime(data['Start Time'], utc = True)\n",
    "data['Duration'] = pd.to_timedelta(data['Duration'])\n",
    "data.dtypes"
   ]
  },
  {
   "cell_type": "code",
   "execution_count": 172,
   "id": "8c3a7f22",
   "metadata": {},
   "outputs": [
    {
     "data": {
      "text/plain": [
       "Timedelta('278 days 09:39:44')"
      ]
     },
     "execution_count": 172,
     "metadata": {},
     "output_type": "execute_result"
    }
   ],
   "source": [
    "data['Duration'].sum()"
   ]
  },
  {
   "cell_type": "code",
   "execution_count": 173,
   "id": "b5aeadc6",
   "metadata": {},
   "outputs": [],
   "source": [
    "# Sixth question: How much time have each profile used on Netflix, and which one has used it the most? "
   ]
  },
  {
   "cell_type": "code",
   "execution_count": 174,
   "id": "13979052",
   "metadata": {},
   "outputs": [
    {
     "data": {
      "text/plain": [
       "Timedelta('185 days 19:02:49')"
      ]
     },
     "execution_count": 174,
     "metadata": {},
     "output_type": "execute_result"
    }
   ],
   "source": [
    "data.loc[data['Profile Name']=='Kornelia','Duration'].sum()"
   ]
  },
  {
   "cell_type": "code",
   "execution_count": 175,
   "id": "ef61383c",
   "metadata": {},
   "outputs": [
    {
     "data": {
      "text/plain": [
       "Timedelta('78 days 08:41:59')"
      ]
     },
     "execution_count": 175,
     "metadata": {},
     "output_type": "execute_result"
    }
   ],
   "source": [
    "data.loc[data['Profile Name']=='Sarah','Duration'].sum()"
   ]
  },
  {
   "cell_type": "code",
   "execution_count": 176,
   "id": "34c2bbf4",
   "metadata": {},
   "outputs": [
    {
     "data": {
      "text/plain": [
       "Timedelta('0 days 00:00:00')"
      ]
     },
     "execution_count": 176,
     "metadata": {},
     "output_type": "execute_result"
    }
   ],
   "source": [
    "data.loc[data['Profile Name']=='Venke','Duration'].sum()"
   ]
  },
  {
   "cell_type": "code",
   "execution_count": 177,
   "id": "2c71914b",
   "metadata": {},
   "outputs": [
    {
     "data": {
      "text/plain": [
       "Timedelta('0 days 10:44:03')"
      ]
     },
     "execution_count": 177,
     "metadata": {},
     "output_type": "execute_result"
    }
   ],
   "source": [
    "data.loc[data['Profile Name']=='Kids','Duration'].sum()"
   ]
  },
  {
   "cell_type": "code",
   "execution_count": 178,
   "id": "c4eda929",
   "metadata": {},
   "outputs": [],
   "source": [
    "# Seventh question: Now let´s convert these numbers into seconds and look at the two most used profiles. "
   ]
  },
  {
   "cell_type": "code",
   "execution_count": 179,
   "id": "3f050e44",
   "metadata": {},
   "outputs": [
    {
     "data": {
      "text/plain": [
       "16052569.0"
      ]
     },
     "execution_count": 179,
     "metadata": {},
     "output_type": "execute_result"
    }
   ],
   "source": [
    "data.loc[data['Profile Name']=='Kornelia','Duration'].astype('timedelta64[s]').sum()"
   ]
  },
  {
   "cell_type": "code",
   "execution_count": 180,
   "id": "03bf0440",
   "metadata": {},
   "outputs": [
    {
     "data": {
      "text/plain": [
       "6770519.0"
      ]
     },
     "execution_count": 180,
     "metadata": {},
     "output_type": "execute_result"
    }
   ],
   "source": [
    "data.loc[data['Profile Name']=='Sarah','Duration'].astype('timedelta64[s]').sum()"
   ]
  },
  {
   "cell_type": "code",
   "execution_count": 181,
   "id": "83b6a610",
   "metadata": {},
   "outputs": [
    {
     "data": {
      "text/plain": [
       "{'Kornelia': 16052569.0, 'Sarah': 6770519.0}"
      ]
     },
     "execution_count": 181,
     "metadata": {},
     "output_type": "execute_result"
    }
   ],
   "source": [
    "viewTime = {}\n",
    "viewTime.update({\"Kornelia\": data.loc[data['Profile Name']=='Kornelia','Duration'].astype('timedelta64[s]').sum()})\n",
    "viewTime.update({\"Sarah\": data.loc[data['Profile Name']=='Sarah','Duration'].astype('timedelta64[s]').sum()})\n",
    "viewTime"
   ]
  },
  {
   "cell_type": "code",
   "execution_count": 182,
   "id": "0a85b7bc",
   "metadata": {},
   "outputs": [],
   "source": [
    "# Now, the seventh question will be turned into a plot to highlight the difference between the two most used \n",
    "# profiles on the account. "
   ]
  },
  {
   "cell_type": "code",
   "execution_count": 183,
   "id": "641db66d",
   "metadata": {},
   "outputs": [
    {
     "data": {
      "image/png": "[encoded data removed]",
      "text/plain": [
       "<Figure size 640x480 with 1 Axes>"
      ]
     },
     "metadata": {},
     "output_type": "display_data"
    }
   ],
   "source": [
    "%matplotlib inline\n",
    "import matplotlib\n",
    "import matplotlib.pyplot as plt\n",
    "plt.bar(*zip(*viewTime.items()), color = '#440154', )\n",
    "plt.title (\"Viewing Time\", weight = \"bold\")\n",
    "plt.ylabel (\"Seconds\", weight = \"bold\")\n",
    "plt.xlabel (\"Profiles\", weight = \"bold\")\n",
    "\n",
    "ax = plt.gca()\n",
    "ax.tick_params(axis ='x', colors ='black')\n",
    "ax.tick_params(axis ='y', colors ='black')\n",
    "\n",
    "\n",
    "plt.show()\n"
   ]
  },
  {
   "cell_type": "code",
   "execution_count": 184,
   "id": "6ad26de2",
   "metadata": {},
   "outputs": [],
   "source": [
    "# Eighth question: Which device types has been used to watch netflix?\n",
    "# Which one has been most used based on all profiles? "
   ]
  },
  {
   "cell_type": "code",
   "execution_count": 185,
   "id": "9d8795f8",
   "metadata": {},
   "outputs": [
    {
     "data": {
      "text/plain": [
       "array(['Apple TV 3 (revised)', 'Safari MAC (Cadmium)',\n",
       "       'Apple iPhone 7 (GSM)', 'Apple Apple TV 4K 3rd Gen Apple TV',\n",
       "       'iPhone 12 Pro', 'Netflix Chrome MAC (Cadmium) HTML 5',\n",
       "       'Telenor TNR-3770CF MVPD STB', 'Apple iPhone 8 Plus (GSM)',\n",
       "       'iPad Pro 9.7-Inch (WiFi/LTE)', 'Chrome PC (Cadmium)',\n",
       "       'Apple iPhone 7 Plus (GSM)',\n",
       "       'Google Chromecast V3 Streaming Stick', 'iPhone 5S CDMA', 'Mobile',\n",
       "       'Internet Explorer (Cadmium)', 'PC', 'Mac',\n",
       "       'Windows 8 x64 devices', 'Apple iPhone 5 with CDMA',\n",
       "       'Apple iPhone 11 Pro', 'Apple iPad 6th Gen 9.7 (Wi-Fi) iPad',\n",
       "       'Apple iPhone XS', 'Apple iPhone 8 (GSM)', 'Edge (Cadmium)',\n",
       "       'Apple iPhone 6s',\n",
       "       'Android DefaultWidevineL3Tablet Android Tablet',\n",
       "       'Apple iPhone 4S'], dtype=object)"
      ]
     },
     "execution_count": 185,
     "metadata": {},
     "output_type": "execute_result"
    }
   ],
   "source": [
    "data[\"Device Type\"].unique()"
   ]
  },
  {
   "cell_type": "code",
   "execution_count": 186,
   "id": "981068b6",
   "metadata": {},
   "outputs": [
    {
     "data": {
      "text/plain": [
       "Safari MAC (Cadmium)                              5399\n",
       "Apple TV 3 (revised)                              2592\n",
       "Chrome PC (Cadmium)                               1709\n",
       "Netflix Chrome MAC (Cadmium) HTML 5               1190\n",
       "Internet Explorer (Cadmium)                       1078\n",
       "Mac                                                626\n",
       "Edge (Cadmium)                                     554\n",
       "iPad Pro 9.7-Inch (WiFi/LTE)                       464\n",
       "Apple iPad 6th Gen 9.7 (Wi-Fi) iPad                319\n",
       "iPhone 12 Pro                                      234\n",
       "iPhone 5S CDMA                                     210\n",
       "Apple iPhone 6s                                    197\n",
       "Telenor TNR-3770CF MVPD STB                        196\n",
       "Apple iPhone 11 Pro                                187\n",
       "PC                                                 186\n",
       "Apple iPhone 8 Plus (GSM)                          185\n",
       "Windows 8 x64 devices                              146\n",
       "Apple iPhone 4S                                    111\n",
       "Mobile                                             103\n",
       "Apple iPhone 8 (GSM)                                85\n",
       "Apple Apple TV 4K 3rd Gen Apple TV                  58\n",
       "Apple iPhone 7 (GSM)                                57\n",
       "Apple iPhone 5 with CDMA                            56\n",
       "Apple iPhone 7 Plus (GSM)                           52\n",
       "Google Chromecast V3 Streaming Stick                15\n",
       "Apple iPhone XS                                      1\n",
       "Android DefaultWidevineL3Tablet Android Tablet       1\n",
       "Name: Device Type, dtype: int64"
      ]
     },
     "execution_count": 186,
     "metadata": {},
     "output_type": "execute_result"
    }
   ],
   "source": [
    "data['Device Type'].value_counts()"
   ]
  },
  {
   "cell_type": "code",
   "execution_count": 187,
   "id": "da4de2e1",
   "metadata": {},
   "outputs": [
    {
     "data": {
      "image/png": "[encoded data removed]",
      "text/plain": [
       "<Figure size 640x480 with 1 Axes>"
      ]
     },
     "metadata": {},
     "output_type": "display_data"
    }
   ],
   "source": [
    "data['Device Type'].value_counts().plot(kind =\"barh\", color = \"Orange\")\n",
    "plt.title (\"Device Types from all profiles on Netflix\", size = 11)\n",
    "plt.yticks (size = 8)\n",
    "plt.xticks (size = 10)\n",
    "plt.gca().invert_yaxis()\n",
    "plt.show() "
   ]
  },
  {
   "cell_type": "code",
   "execution_count": 188,
   "id": "c7352384",
   "metadata": {},
   "outputs": [],
   "source": [
    "# Ninth question: Which devices was most used by Kornelia´s profile? \n",
    "# Illustrated by a pie chart of top 4. "
   ]
  },
  {
   "cell_type": "code",
   "execution_count": 189,
   "id": "f56d027a",
   "metadata": {},
   "outputs": [],
   "source": [
    "data2 = data[data['Profile Name'] == 'Kornelia']"
   ]
  },
  {
   "cell_type": "code",
   "execution_count": 190,
   "id": "a260d5b4",
   "metadata": {},
   "outputs": [
    {
     "data": {
      "text/plain": [
       "Safari MAC (Cadmium)                    5116\n",
       "Apple TV 3 (revised)                    2102\n",
       "Netflix Chrome MAC (Cadmium) HTML 5     1170\n",
       "Chrome PC (Cadmium)                      747\n",
       "Mac                                      568\n",
       "iPhone 12 Pro                            234\n",
       "Apple iPhone 8 Plus (GSM)                185\n",
       "iPhone 5S CDMA                            81\n",
       "Apple Apple TV 4K 3rd Gen Apple TV        58\n",
       "Apple iPhone 5 with CDMA                  56\n",
       "Apple iPhone 7 (GSM)                      47\n",
       "Apple iPhone 7 Plus (GSM)                 44\n",
       "Mobile                                    33\n",
       "Telenor TNR-3770CF MVPD STB               10\n",
       "Internet Explorer (Cadmium)                9\n",
       "Windows 8 x64 devices                      4\n",
       "Google Chromecast V3 Streaming Stick       3\n",
       "iPad Pro 9.7-Inch (WiFi/LTE)               3\n",
       "PC                                         3\n",
       "Name: Device Type, dtype: int64"
      ]
     },
     "execution_count": 190,
     "metadata": {},
     "output_type": "execute_result"
    }
   ],
   "source": [
    "data2['Device Type'].value_counts()"
   ]
  },
  {
   "cell_type": "code",
   "execution_count": 191,
   "id": "8d77cc2b",
   "metadata": {},
   "outputs": [
    {
     "data": {
      "image/png": "[encoded data removed]",
      "text/plain": [
       "<Figure size 640x480 with 1 Axes>"
      ]
     },
     "metadata": {},
     "output_type": "display_data"
    }
   ],
   "source": [
    "import matplotlib.pyplot as plt\n",
    "import numpy as np \n",
    "y = np.array([5116, 2102, 1170, 747])\n",
    "mylabels = [\"Safari\", \"Apple TV\", \"Chrome on Mac\", \"Chrome on PC\"]\n",
    "mycolors = [\"#fde725\", \"#5ec962\", \"#21918c\", \"#3b528b\"]\n",
    "myexplode = [0.2, 0, 0, 0]\n",
    "\n",
    "plt.pie(y, labels = mylabels, colors = mycolors, explode = myexplode, startangle = 90)\n",
    "plt.title (\"The four most used devices for watching Netflix based on Kornelia´s data\", size = 15)\n",
    "plt.show() \n"
   ]
  },
  {
   "cell_type": "code",
   "execution_count": 192,
   "id": "222b9382",
   "metadata": {},
   "outputs": [],
   "source": [
    "# Tenth question: In which countries have the profiles watched the most netflix? Based on this data set. "
   ]
  },
  {
   "cell_type": "code",
   "execution_count": 193,
   "id": "b7b9050c",
   "metadata": {},
   "outputs": [
    {
     "data": {
      "text/plain": [
       "NO (Norway)            9661\n",
       "US (United States)      769\n",
       "PT (Portugal)            21\n",
       "UG (Uganda)               5\n",
       "KE (Kenya)                3\n",
       "LK (Sri Lanka)            2\n",
       "LV (Latvia)               2\n",
       "DE (Germany)              2\n",
       "MV (Maldives)             1\n",
       "RW (Rwanda)               1\n",
       "ZZ (Unknown Region)       1\n",
       "GB (United Kingdom)       1\n",
       "NL (Netherlands)          1\n",
       "FR (France)               1\n",
       "CA (Canada)               1\n",
       "SE (Sweden)               1\n",
       "Name: Country, dtype: int64"
      ]
     },
     "execution_count": 193,
     "metadata": {},
     "output_type": "execute_result"
    }
   ],
   "source": [
    "data2['Country'].value_counts()"
   ]
  },
  {
   "cell_type": "code",
   "execution_count": 194,
   "id": "cb932a9e",
   "metadata": {},
   "outputs": [],
   "source": [
    "# Eleventh question: In which country has Kornelia watched the most netflix? Top 5. "
   ]
  },
  {
   "cell_type": "code",
   "execution_count": 195,
   "id": "e25b1477",
   "metadata": {},
   "outputs": [
    {
     "data": {
      "image/png": "[encoded data removed]",
      "text/plain": [
       "<Figure size 640x480 with 1 Axes>"
      ]
     },
     "metadata": {},
     "output_type": "display_data"
    }
   ],
   "source": [
    "import matplotlib.pyplot as plt\n",
    "Country = [\"Norway\", \"USA\", \"Portugal\", \"Uganda\", \"Kenya\"]\n",
    "values_country = [9661, 769, 21, 5, 3]\n",
    "\n",
    "barplot = plt.bar (x = Country, height = values_country, fc = \"#f781bf\", ec = \"black\")\n",
    "plt.bar_label(barplot, labels = values_country, label_type = \"edge\", font = \"Times New Roman\", weight = \"bold\")\n",
    "plt.yticks (font = \"Times New Roman\")\n",
    "plt.xticks (rotation = 40, ha = \"right\", font = \"Times New Roman\")\n",
    "plt.title (\"Kornelia´s top 5 countries for watching Netflix\", font = \"Times New Roman\", size = 15)\n",
    "plt.show()"
   ]
  },
  {
   "cell_type": "code",
   "execution_count": 196,
   "id": "ab9d42f7",
   "metadata": {},
   "outputs": [],
   "source": [
    "# Twelfth question: Where in the world has the van Ingen family watched Netflix the most?\n",
    "# In addition, here I used a non-linear axe with log, as the values are so spread, and the previous plot is not \n",
    "# extremely clear, however the value labels work as an indication for the differences. "
   ]
  },
  {
   "cell_type": "code",
   "execution_count": 197,
   "id": "1d85e42c",
   "metadata": {},
   "outputs": [],
   "source": [
    "import pandas as pd\n",
    "import matplotlib.pyplot as plt"
   ]
  },
  {
   "cell_type": "code",
   "execution_count": 198,
   "id": "6107f4a1",
   "metadata": {},
   "outputs": [],
   "source": [
    "df = pd.read_csv(\"/Users/Nelia/Desktop/netflix-report/CONTENT_INTERACTION/ViewingActivity.csv\")"
   ]
  },
  {
   "cell_type": "code",
   "execution_count": 199,
   "id": "3f13a1e7",
   "metadata": {},
   "outputs": [],
   "source": [
    "total_per_country = df.groupby(by = \"Country\").count()\n",
    "total_per_country_sorted = total_per_country.sort_values (by = \"Bookmark\", ascending = False) "
   ]
  },
  {
   "cell_type": "code",
   "execution_count": 200,
   "id": "9d5d5a98",
   "metadata": {},
   "outputs": [
    {
     "data": {
      "text/html": [
       "<div>\n",
       "<style scoped>\n",
       "    .dataframe tbody tr th:only-of-type {\n",
       "        vertical-align: middle;\n",
       "    }\n",
       "\n",
       "    .dataframe tbody tr th {\n",
       "        vertical-align: top;\n",
       "    }\n",
       "\n",
       "    .dataframe thead th {\n",
       "        text-align: right;\n",
       "    }\n",
       "</style>\n",
       "<table border=\"1\" class=\"dataframe\">\n",
       "  <thead>\n",
       "    <tr style=\"text-align: right;\">\n",
       "      <th></th>\n",
       "      <th>Profile Name</th>\n",
       "      <th>Start Time</th>\n",
       "      <th>Duration</th>\n",
       "      <th>Attributes</th>\n",
       "      <th>Title</th>\n",
       "      <th>Supplemental Video Type</th>\n",
       "      <th>Device Type</th>\n",
       "      <th>Bookmark</th>\n",
       "      <th>Latest Bookmark</th>\n",
       "    </tr>\n",
       "    <tr>\n",
       "      <th>Country</th>\n",
       "      <th></th>\n",
       "      <th></th>\n",
       "      <th></th>\n",
       "      <th></th>\n",
       "      <th></th>\n",
       "      <th></th>\n",
       "      <th></th>\n",
       "      <th></th>\n",
       "      <th></th>\n",
       "    </tr>\n",
       "  </thead>\n",
       "  <tbody>\n",
       "    <tr>\n",
       "      <th>NO (Norway)</th>\n",
       "      <td>14283</td>\n",
       "      <td>14283</td>\n",
       "      <td>14283</td>\n",
       "      <td>2269</td>\n",
       "      <td>14283</td>\n",
       "      <td>495</td>\n",
       "      <td>14283</td>\n",
       "      <td>14283</td>\n",
       "      <td>14283</td>\n",
       "    </tr>\n",
       "    <tr>\n",
       "      <th>US (United States)</th>\n",
       "      <td>964</td>\n",
       "      <td>964</td>\n",
       "      <td>964</td>\n",
       "      <td>1</td>\n",
       "      <td>964</td>\n",
       "      <td>0</td>\n",
       "      <td>964</td>\n",
       "      <td>964</td>\n",
       "      <td>964</td>\n",
       "    </tr>\n",
       "    <tr>\n",
       "      <th>GB (United Kingdom)</th>\n",
       "      <td>557</td>\n",
       "      <td>557</td>\n",
       "      <td>557</td>\n",
       "      <td>100</td>\n",
       "      <td>557</td>\n",
       "      <td>0</td>\n",
       "      <td>557</td>\n",
       "      <td>557</td>\n",
       "      <td>557</td>\n",
       "    </tr>\n",
       "    <tr>\n",
       "      <th>NL (Netherlands)</th>\n",
       "      <td>94</td>\n",
       "      <td>94</td>\n",
       "      <td>94</td>\n",
       "      <td>8</td>\n",
       "      <td>94</td>\n",
       "      <td>0</td>\n",
       "      <td>94</td>\n",
       "      <td>94</td>\n",
       "      <td>94</td>\n",
       "    </tr>\n",
       "    <tr>\n",
       "      <th>PT (Portugal)</th>\n",
       "      <td>33</td>\n",
       "      <td>33</td>\n",
       "      <td>33</td>\n",
       "      <td>1</td>\n",
       "      <td>33</td>\n",
       "      <td>0</td>\n",
       "      <td>33</td>\n",
       "      <td>33</td>\n",
       "      <td>33</td>\n",
       "    </tr>\n",
       "    <tr>\n",
       "      <th>DE (Germany)</th>\n",
       "      <td>28</td>\n",
       "      <td>28</td>\n",
       "      <td>28</td>\n",
       "      <td>0</td>\n",
       "      <td>28</td>\n",
       "      <td>0</td>\n",
       "      <td>28</td>\n",
       "      <td>28</td>\n",
       "      <td>28</td>\n",
       "    </tr>\n",
       "    <tr>\n",
       "      <th>GR (Greece)</th>\n",
       "      <td>16</td>\n",
       "      <td>16</td>\n",
       "      <td>16</td>\n",
       "      <td>0</td>\n",
       "      <td>16</td>\n",
       "      <td>0</td>\n",
       "      <td>16</td>\n",
       "      <td>16</td>\n",
       "      <td>16</td>\n",
       "    </tr>\n",
       "    <tr>\n",
       "      <th>UG (Uganda)</th>\n",
       "      <td>5</td>\n",
       "      <td>5</td>\n",
       "      <td>5</td>\n",
       "      <td>0</td>\n",
       "      <td>5</td>\n",
       "      <td>0</td>\n",
       "      <td>5</td>\n",
       "      <td>5</td>\n",
       "      <td>5</td>\n",
       "    </tr>\n",
       "    <tr>\n",
       "      <th>MX (Mexico)</th>\n",
       "      <td>4</td>\n",
       "      <td>4</td>\n",
       "      <td>4</td>\n",
       "      <td>4</td>\n",
       "      <td>4</td>\n",
       "      <td>4</td>\n",
       "      <td>4</td>\n",
       "      <td>4</td>\n",
       "      <td>4</td>\n",
       "    </tr>\n",
       "    <tr>\n",
       "      <th>BR (Brazil)</th>\n",
       "      <td>3</td>\n",
       "      <td>3</td>\n",
       "      <td>3</td>\n",
       "      <td>0</td>\n",
       "      <td>3</td>\n",
       "      <td>0</td>\n",
       "      <td>3</td>\n",
       "      <td>3</td>\n",
       "      <td>3</td>\n",
       "    </tr>\n",
       "    <tr>\n",
       "      <th>CA (Canada)</th>\n",
       "      <td>3</td>\n",
       "      <td>3</td>\n",
       "      <td>3</td>\n",
       "      <td>0</td>\n",
       "      <td>3</td>\n",
       "      <td>0</td>\n",
       "      <td>3</td>\n",
       "      <td>3</td>\n",
       "      <td>3</td>\n",
       "    </tr>\n",
       "    <tr>\n",
       "      <th>KE (Kenya)</th>\n",
       "      <td>3</td>\n",
       "      <td>3</td>\n",
       "      <td>3</td>\n",
       "      <td>0</td>\n",
       "      <td>3</td>\n",
       "      <td>0</td>\n",
       "      <td>3</td>\n",
       "      <td>3</td>\n",
       "      <td>3</td>\n",
       "    </tr>\n",
       "    <tr>\n",
       "      <th>LV (Latvia)</th>\n",
       "      <td>2</td>\n",
       "      <td>2</td>\n",
       "      <td>2</td>\n",
       "      <td>0</td>\n",
       "      <td>2</td>\n",
       "      <td>0</td>\n",
       "      <td>2</td>\n",
       "      <td>2</td>\n",
       "      <td>2</td>\n",
       "    </tr>\n",
       "    <tr>\n",
       "      <th>TR (Turkey)</th>\n",
       "      <td>2</td>\n",
       "      <td>2</td>\n",
       "      <td>2</td>\n",
       "      <td>0</td>\n",
       "      <td>2</td>\n",
       "      <td>0</td>\n",
       "      <td>2</td>\n",
       "      <td>2</td>\n",
       "      <td>2</td>\n",
       "    </tr>\n",
       "    <tr>\n",
       "      <th>SE (Sweden)</th>\n",
       "      <td>2</td>\n",
       "      <td>2</td>\n",
       "      <td>2</td>\n",
       "      <td>0</td>\n",
       "      <td>2</td>\n",
       "      <td>0</td>\n",
       "      <td>2</td>\n",
       "      <td>2</td>\n",
       "      <td>2</td>\n",
       "    </tr>\n",
       "    <tr>\n",
       "      <th>ZZ (Unknown Region)</th>\n",
       "      <td>2</td>\n",
       "      <td>2</td>\n",
       "      <td>2</td>\n",
       "      <td>0</td>\n",
       "      <td>2</td>\n",
       "      <td>0</td>\n",
       "      <td>2</td>\n",
       "      <td>2</td>\n",
       "      <td>2</td>\n",
       "    </tr>\n",
       "    <tr>\n",
       "      <th>LK (Sri Lanka)</th>\n",
       "      <td>2</td>\n",
       "      <td>2</td>\n",
       "      <td>2</td>\n",
       "      <td>0</td>\n",
       "      <td>2</td>\n",
       "      <td>0</td>\n",
       "      <td>2</td>\n",
       "      <td>2</td>\n",
       "      <td>2</td>\n",
       "    </tr>\n",
       "    <tr>\n",
       "      <th>IN (India)</th>\n",
       "      <td>2</td>\n",
       "      <td>2</td>\n",
       "      <td>2</td>\n",
       "      <td>0</td>\n",
       "      <td>2</td>\n",
       "      <td>0</td>\n",
       "      <td>2</td>\n",
       "      <td>2</td>\n",
       "      <td>2</td>\n",
       "    </tr>\n",
       "    <tr>\n",
       "      <th>MV (Maldives)</th>\n",
       "      <td>1</td>\n",
       "      <td>1</td>\n",
       "      <td>1</td>\n",
       "      <td>0</td>\n",
       "      <td>1</td>\n",
       "      <td>0</td>\n",
       "      <td>1</td>\n",
       "      <td>1</td>\n",
       "      <td>1</td>\n",
       "    </tr>\n",
       "    <tr>\n",
       "      <th>AU (Australia)</th>\n",
       "      <td>1</td>\n",
       "      <td>1</td>\n",
       "      <td>1</td>\n",
       "      <td>0</td>\n",
       "      <td>1</td>\n",
       "      <td>0</td>\n",
       "      <td>1</td>\n",
       "      <td>1</td>\n",
       "      <td>1</td>\n",
       "    </tr>\n",
       "    <tr>\n",
       "      <th>RW (Rwanda)</th>\n",
       "      <td>1</td>\n",
       "      <td>1</td>\n",
       "      <td>1</td>\n",
       "      <td>0</td>\n",
       "      <td>1</td>\n",
       "      <td>0</td>\n",
       "      <td>1</td>\n",
       "      <td>1</td>\n",
       "      <td>1</td>\n",
       "    </tr>\n",
       "    <tr>\n",
       "      <th>FR (France)</th>\n",
       "      <td>1</td>\n",
       "      <td>1</td>\n",
       "      <td>1</td>\n",
       "      <td>0</td>\n",
       "      <td>1</td>\n",
       "      <td>0</td>\n",
       "      <td>1</td>\n",
       "      <td>1</td>\n",
       "      <td>1</td>\n",
       "    </tr>\n",
       "    <tr>\n",
       "      <th>ES (Spain)</th>\n",
       "      <td>1</td>\n",
       "      <td>1</td>\n",
       "      <td>1</td>\n",
       "      <td>0</td>\n",
       "      <td>1</td>\n",
       "      <td>0</td>\n",
       "      <td>1</td>\n",
       "      <td>1</td>\n",
       "      <td>1</td>\n",
       "    </tr>\n",
       "    <tr>\n",
       "      <th>AE (United Arab Emirates)</th>\n",
       "      <td>1</td>\n",
       "      <td>1</td>\n",
       "      <td>1</td>\n",
       "      <td>0</td>\n",
       "      <td>1</td>\n",
       "      <td>0</td>\n",
       "      <td>1</td>\n",
       "      <td>1</td>\n",
       "      <td>1</td>\n",
       "    </tr>\n",
       "  </tbody>\n",
       "</table>\n",
       "</div>"
      ],
      "text/plain": [
       "                           Profile Name  Start Time  Duration  Attributes  \\\n",
       "Country                                                                     \n",
       "NO (Norway)                       14283       14283     14283        2269   \n",
       "US (United States)                  964         964       964           1   \n",
       "GB (United Kingdom)                 557         557       557         100   \n",
       "NL (Netherlands)                     94          94        94           8   \n",
       "PT (Portugal)                        33          33        33           1   \n",
       "DE (Germany)                         28          28        28           0   \n",
       "GR (Greece)                          16          16        16           0   \n",
       "UG (Uganda)                           5           5         5           0   \n",
       "MX (Mexico)                           4           4         4           4   \n",
       "BR (Brazil)                           3           3         3           0   \n",
       "CA (Canada)                           3           3         3           0   \n",
       "KE (Kenya)                            3           3         3           0   \n",
       "LV (Latvia)                           2           2         2           0   \n",
       "TR (Turkey)                           2           2         2           0   \n",
       "SE (Sweden)                           2           2         2           0   \n",
       "ZZ (Unknown Region)                   2           2         2           0   \n",
       "LK (Sri Lanka)                        2           2         2           0   \n",
       "IN (India)                            2           2         2           0   \n",
       "MV (Maldives)                         1           1         1           0   \n",
       "AU (Australia)                        1           1         1           0   \n",
       "RW (Rwanda)                           1           1         1           0   \n",
       "FR (France)                           1           1         1           0   \n",
       "ES (Spain)                            1           1         1           0   \n",
       "AE (United Arab Emirates)             1           1         1           0   \n",
       "\n",
       "                           Title  Supplemental Video Type  Device Type  \\\n",
       "Country                                                                  \n",
       "NO (Norway)                14283                      495        14283   \n",
       "US (United States)           964                        0          964   \n",
       "GB (United Kingdom)          557                        0          557   \n",
       "NL (Netherlands)              94                        0           94   \n",
       "PT (Portugal)                 33                        0           33   \n",
       "DE (Germany)                  28                        0           28   \n",
       "GR (Greece)                   16                        0           16   \n",
       "UG (Uganda)                    5                        0            5   \n",
       "MX (Mexico)                    4                        4            4   \n",
       "BR (Brazil)                    3                        0            3   \n",
       "CA (Canada)                    3                        0            3   \n",
       "KE (Kenya)                     3                        0            3   \n",
       "LV (Latvia)                    2                        0            2   \n",
       "TR (Turkey)                    2                        0            2   \n",
       "SE (Sweden)                    2                        0            2   \n",
       "ZZ (Unknown Region)            2                        0            2   \n",
       "LK (Sri Lanka)                 2                        0            2   \n",
       "IN (India)                     2                        0            2   \n",
       "MV (Maldives)                  1                        0            1   \n",
       "AU (Australia)                 1                        0            1   \n",
       "RW (Rwanda)                    1                        0            1   \n",
       "FR (France)                    1                        0            1   \n",
       "ES (Spain)                     1                        0            1   \n",
       "AE (United Arab Emirates)      1                        0            1   \n",
       "\n",
       "                           Bookmark  Latest Bookmark  \n",
       "Country                                               \n",
       "NO (Norway)                   14283            14283  \n",
       "US (United States)              964              964  \n",
       "GB (United Kingdom)             557              557  \n",
       "NL (Netherlands)                 94               94  \n",
       "PT (Portugal)                    33               33  \n",
       "DE (Germany)                     28               28  \n",
       "GR (Greece)                      16               16  \n",
       "UG (Uganda)                       5                5  \n",
       "MX (Mexico)                       4                4  \n",
       "BR (Brazil)                       3                3  \n",
       "CA (Canada)                       3                3  \n",
       "KE (Kenya)                        3                3  \n",
       "LV (Latvia)                       2                2  \n",
       "TR (Turkey)                       2                2  \n",
       "SE (Sweden)                       2                2  \n",
       "ZZ (Unknown Region)               2                2  \n",
       "LK (Sri Lanka)                    2                2  \n",
       "IN (India)                        2                2  \n",
       "MV (Maldives)                     1                1  \n",
       "AU (Australia)                    1                1  \n",
       "RW (Rwanda)                       1                1  \n",
       "FR (France)                       1                1  \n",
       "ES (Spain)                        1                1  \n",
       "AE (United Arab Emirates)         1                1  "
      ]
     },
     "execution_count": 200,
     "metadata": {},
     "output_type": "execute_result"
    }
   ],
   "source": [
    "total_per_country_sorted"
   ]
  },
  {
   "cell_type": "code",
   "execution_count": 201,
   "id": "d4a058c7",
   "metadata": {},
   "outputs": [],
   "source": [
    "x = list(total_per_country_sorted.index)\n",
    "y = list (total_per_country_sorted[\"Bookmark\"])"
   ]
  },
  {
   "cell_type": "code",
   "execution_count": 202,
   "id": "404e3965",
   "metadata": {},
   "outputs": [
    {
     "name": "stderr",
     "output_type": "stream",
     "text": [
      "/var/folders/33/2xq5nttd3n3b46lsn78nq7w40000gn/T/ipykernel_43665/1135416744.py:3: UserWarning: FixedFormatter should only be used together with FixedLocator\n",
      "  ax.set_xticklabels (x, rotation = 45, ha = \"right\", size = 9, font =\"Times New Roman\")\n"
     ]
    },
    {
     "data": {
      "image/png": "[encoded data removed]",
      "text/plain": [
       "<Figure size 640x480 with 1 Axes>"
      ]
     },
     "metadata": {},
     "output_type": "display_data"
    }
   ],
   "source": [
    "f,ax = plt.subplots()\n",
    "ax.plot (x, y, linestyle = \"none\", marker = \".\", markersize = 20, fillstyle = \"none\", color = \"C0\" )\n",
    "ax.set_xticklabels (x, rotation = 45, ha = \"right\", size = 9, font =\"Times New Roman\")\n",
    "ax.set_ylabel (\"How many times used\", weight = \"bold\", font =\"Times New Roman\")\n",
    "ax.set_xlabel (\"Country\", weight = \"bold\", font =\"Times New Roman\")\n",
    "ax.set_title (\"Where in the world has the van Ingen family watched Netflix the most?\", font =\"Times New Roman\", weight = \"bold\")\n",
    "ax.grid (axis = \"y\")\n",
    "ax.set_yscale(\"log\")"
   ]
  },
  {
   "cell_type": "code",
   "execution_count": 203,
   "id": "759bd656",
   "metadata": {},
   "outputs": [],
   "source": [
    "# Thirteenth question: Did Kornelia and Sarah both watch the movie called \"Someone Great\" on Netflix? "
   ]
  },
  {
   "cell_type": "code",
   "execution_count": 204,
   "id": "6ddc9e74",
   "metadata": {},
   "outputs": [],
   "source": [
    "import pandas as pd\n",
    "import numpy as np \n",
    "import matplotlib.pyplot as plt"
   ]
  },
  {
   "cell_type": "code",
   "execution_count": 205,
   "id": "4ae14170",
   "metadata": {},
   "outputs": [],
   "source": [
    "df = pd.read_csv(\"/Users/Nelia/Desktop/netflix-report/CONTENT_INTERACTION/ViewingActivity.csv\")"
   ]
  },
  {
   "cell_type": "code",
   "execution_count": 206,
   "id": "deff6de9",
   "metadata": {},
   "outputs": [
    {
     "data": {
      "text/plain": [
       "Index(['Profile Name', 'Start Time', 'Duration', 'Attributes', 'Title',\n",
       "       'Supplemental Video Type', 'Device Type', 'Bookmark', 'Latest Bookmark',\n",
       "       'Country'],\n",
       "      dtype='object')"
      ]
     },
     "execution_count": 206,
     "metadata": {},
     "output_type": "execute_result"
    }
   ],
   "source": [
    "df.keys ()"
   ]
  },
  {
   "cell_type": "code",
   "execution_count": 207,
   "id": "7afcc087",
   "metadata": {},
   "outputs": [
    {
     "data": {
      "text/plain": [
       "False"
      ]
     },
     "execution_count": 207,
     "metadata": {},
     "output_type": "execute_result"
    }
   ],
   "source": [
    "smole = df[df[\"Title\"] == \"Someone Great\"]\n",
    "\"Someone Great\" in df[\"Title\"]"
   ]
  },
  {
   "cell_type": "code",
   "execution_count": 208,
   "id": "2b16c46f",
   "metadata": {},
   "outputs": [
    {
     "name": "stdout",
     "output_type": "stream",
     "text": [
      "      Profile Name           Start Time  Duration  \\\n",
      "599       Kornelia  2022-06-03 17:10:23  01:27:51   \n",
      "1284      Kornelia  2021-07-04 21:40:21  01:28:00   \n",
      "2951      Kornelia  2019-12-06 21:09:55  01:27:58   \n",
      "3592      Kornelia  2019-05-18 17:45:44  01:27:56   \n",
      "10593        Sarah  2022-05-14 22:30:41  00:00:07   \n",
      "11021        Sarah  2021-06-27 21:31:01  00:00:36   \n",
      "11094        Sarah  2020-11-26 18:34:20  01:28:32   \n",
      "\n",
      "                                   Attributes          Title  \\\n",
      "599                                       NaN  Someone Great   \n",
      "1284                                      NaN  Someone Great   \n",
      "2951                                      NaN  Someone Great   \n",
      "3592   Autoplayed: user action: Unspecified;   Someone Great   \n",
      "10593                                     NaN  Someone Great   \n",
      "11021                                     NaN  Someone Great   \n",
      "11094                                     NaN  Someone Great   \n",
      "\n",
      "      Supplemental Video Type                          Device Type  Bookmark  \\\n",
      "599                       NaN                 Apple TV 3 (revised)  01:27:51   \n",
      "1284                      NaN                 Apple TV 3 (revised)  01:28:00   \n",
      "2951                      NaN                 Apple TV 3 (revised)  01:27:58   \n",
      "3592                      NaN                 Safari MAC (Cadmium)  01:27:56   \n",
      "10593                     NaN  Apple iPad 6th Gen 9.7 (Wi-Fi) iPad  00:00:08   \n",
      "11021                     NaN                 Apple TV 3 (revised)  00:00:36   \n",
      "11094                     NaN                 Apple TV 3 (revised)  01:27:58   \n",
      "\n",
      "       Latest Bookmark      Country  \n",
      "599           01:27:51  NO (Norway)  \n",
      "1284   Not latest view  NO (Norway)  \n",
      "2951   Not latest view  NO (Norway)  \n",
      "3592   Not latest view  NO (Norway)  \n",
      "10593         00:00:08  NO (Norway)  \n",
      "11021  Not latest view  NO (Norway)  \n",
      "11094  Not latest view  NO (Norway)  \n"
     ]
    }
   ],
   "source": [
    "filter2 = filter (lambda a: \"Someone Great\" in a, df [\"Title\"])\n",
    "print (smole)"
   ]
  },
  {
   "cell_type": "code",
   "execution_count": null,
   "id": "1f47366c",
   "metadata": {},
   "outputs": [],
   "source": []
  }
 ],
 "metadata": {
  "kernelspec": {
   "display_name": "Python 3 (ipykernel)",
   "language": "python",
   "name": "python3"
  },
  "language_info": {
   "codemirror_mode": {
    "name": "ipython",
    "version": 3
   },
   "file_extension": ".py",
   "mimetype": "text/x-python",
   "name": "python",
   "nbconvert_exporter": "python",
   "pygments_lexer": "ipython3",
   "version": "3.9.13"
  }
 },
 "nbformat": 4,
 "nbformat_minor": 5
}
